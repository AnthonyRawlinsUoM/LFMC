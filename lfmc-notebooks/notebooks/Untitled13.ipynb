{
 "cells": [
  {
   "cell_type": "code",
   "execution_count": 6,
   "metadata": {},
   "outputs": [
    {
     "data": {
      "text/plain": [
       "               _                           \n",
       "platform       x86_64-pc-linux-gnu         \n",
       "arch           x86_64                      \n",
       "os             linux-gnu                   \n",
       "system         x86_64, linux-gnu           \n",
       "status                                     \n",
       "major          3                           \n",
       "minor          4.1                         \n",
       "year           2017                        \n",
       "month          06                          \n",
       "day            30                          \n",
       "svn rev        72865                       \n",
       "language       R                           \n",
       "version.string R version 3.4.1 (2017-06-30)\n",
       "nickname       Single Candle               "
      ]
     },
     "metadata": {},
     "output_type": "display_data"
    }
   ],
   "source": [
    "version"
   ]
  },
  {
   "cell_type": "code",
   "execution_count": 8,
   "metadata": {},
   "outputs": [
    {
     "name": "stderr",
     "output_type": "stream",
     "text": [
      "Installing package into ‘/usr/local/spark-2.3.0-bin-hadoop2.7/R/lib’\n",
      "(as ‘lib’ is unspecified)\n",
      "Warning message in install.packages(\"rgeos\"):\n",
      "“installation of package ‘rgeos’ had non-zero exit status”"
     ]
    }
   ],
   "source": [
    "install.packages(\"rgeos\")"
   ]
  },
  {
   "cell_type": "code",
   "execution_count": null,
   "metadata": {},
   "outputs": [],
   "source": [
    "simpfunc<-function(shp, intolerant)\n",
    "{\n",
    "  require(raster)\n",
    "  require(rgeos)\n",
    "inshp<-shapefile(shp)\n",
    " simpshp<-gSimplify(inshp,intolerant, topologyPreserve = F )\n",
    "return(simpshp)\n",
    "}"
   ]
  }
 ],
 "metadata": {
  "kernelspec": {
   "display_name": "R",
   "language": "R",
   "name": "ir"
  },
  "language_info": {
   "codemirror_mode": "r",
   "file_extension": ".r",
   "mimetype": "text/x-r-source",
   "name": "R",
   "pygments_lexer": "r",
   "version": "3.4.1"
  }
 },
 "nbformat": 4,
 "nbformat_minor": 2
}
