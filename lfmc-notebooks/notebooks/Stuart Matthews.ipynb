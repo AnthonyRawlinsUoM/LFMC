{
 "cells": [
  {
   "cell_type": "markdown",
   "metadata": {},
   "source": [
    "# Matthews Model"
   ]
  },
  {
   "cell_type": "code",
   "execution_count": 3,
   "metadata": {
    "collapsed": true
   },
   "outputs": [],
   "source": [
    "import matthews.koba"
   ]
  },
  {
   "cell_type": "code",
   "execution_count": 4,
   "metadata": {
    "collapsed": true
   },
   "outputs": [],
   "source": [
    "start_step = 1 #\n",
    "\n",
    "import sys\n",
    "import math\n",
    "import datetime\n",
    "import itertools\n",
    "from time import *\n",
    "\n",
    "from matthews.koba.data_classes import fuel_types, fmc_cell, weather_conditions_class,  \\\n",
    "    boundary_conditions_class, SystemProperties, LayerState, special_values\n",
    "from matthews.koba.utility import *\n",
    "from matthews.koba.fmc_model_constants import *\n",
    "from matthews.koba.litter_layer import LitterLayer"
   ]
  },
  {
   "cell_type": "code",
   "execution_count": 5,
   "metadata": {
    "collapsed": true
   },
   "outputs": [],
   "source": [
    "# litter_depth = sys.argv[1]\n",
    "# canopy_trans = float(sys.argv[2])/100.0\n",
    "\n",
    "litter_depth = 20\n",
    "canopy_trans = 36.0/100.0"
   ]
  },
  {
   "cell_type": "code",
   "execution_count": 6,
   "metadata": {
    "collapsed": true
   },
   "outputs": [],
   "source": [
    "# BCfile = sys.argv[3]\n",
    "# ICfile = sys.argv[4]\n",
    "# OUTfile = sys.argv[5]"
   ]
  },
  {
   "cell_type": "code",
   "execution_count": null,
   "metadata": {
    "collapsed": true
   },
   "outputs": [],
   "source": [
    "n_model_layers = 2"
   ]
  },
  {
   "cell_type": "code",
   "execution_count": 7,
   "metadata": {
    "collapsed": true
   },
   "outputs": [],
   "source": [
    "def calculate(BCfile, ICfile, OUTfile):\n",
    "    f = open(ICfile,'r')\n",
    "    #print(f.readline()) #Header line\n",
    "    text = f.readlines()\n",
    "    f.close()\n",
    "    \n",
    "    IC = []   #create IC with a dummy first element.  The model code expects State[1] to be the first model layer, the atmsophere has index = 0.\n",
    "    for i in range(0,n_model_layers+1):\n",
    "        initial_state = LayerState()\n",
    "        initial_state.T = 290\n",
    "        initial_state.m = float(text[i].split('\\t')[3])\n",
    "        initial_state.l = 0\n",
    "        initial_state.q = 0.0005\n",
    "        IC.append(initial_state)\n",
    "        \n",
    "    #---Initialise model--------------------------------------------------------------\n",
    "\n",
    "    #Default litter layer with parameter values from class definition\n",
    "    litter_parameters = SystemProperties()\n",
    "    litter_parameters.n_layers = 2\n",
    "    litter_parameters.depth=int(litter_depth)/1000.00\n",
    "    litter_parameters.Vm = litter_parameters.rhoBulk/litter_parameters.rhoLitter  #Litter volume fraction\n",
    "\n",
    "    litter = LitterLayer(litter_parameters,IC)\n",
    "    \n",
    "    #---Prepare regularly spaced array of boundary conditions-------------------------\n",
    "\n",
    "    #Read from file\n",
    "    f = open(BCfile,'r')\n",
    "    print(f.readline()) #Header line\n",
    "    text = f.readlines()\n",
    "    f.close()\n",
    "    \n",
    "    #Parse BCs\n",
    "    BC = []\n",
    "    for i in range(0,len(text)):\n",
    "        inst = boundary_conditions_class()\n",
    "        line = text[i].split('\\t')\n",
    "\n",
    "         #\"date\"\t\"t\"\t\"q\"\t\"rain\"\t\"wind\"\t\"cloud\"\t\"soil\"\n",
    "         #2011-11-01 00:00:00\t15.3325507287711\t7.97204673499302\t0\t0.0327443434437841\t8\t3.57\n",
    "\n",
    "        inst.date = int(mktime(strptime(line[0],\"%Y-%m-%d %H:%M:%S\"))) #Seconds since epoch\n",
    "\n",
    "        basic_T = float(line[1])\n",
    "        basic_q = float(line[2])\n",
    "        basic_rain = float(line[3])\n",
    "        basic_wind_ms = float(line[4])\n",
    "        if (line[5]==\"NA\"):\n",
    "            basic_solar = 0\n",
    "        else:\n",
    "            basic_solar = float(line[5])\n",
    "        basic_soil = float(line[6])/100.0\n",
    "\n",
    "        inst.soil_temperature = basic_T+273.15\n",
    "        inst.soil_moisture = 0\n",
    "        inst.air_temperature = basic_T+273.15\n",
    "        inst.specific_humidity = min(basic_q/1000,q_sat(basic_T+273.15,101300))\n",
    "        inst.wind_speed =  basic_wind_ms\n",
    "        \n",
    "        #    datet = datetime.datetime.fromtimestamp(inst.date)\n",
    "        #    s_model = solar_radiation(datet,-33.7)\n",
    "        #    s_model = s_model*(1-0.72*(basic_cloud/8)**3.20)\n",
    "        inst.solar_radiation = basic_solar #canopy_trans*s_model\n",
    "        inst.thermal_radiation = (0.9*5.67e-8*(basic_T+273.15)**4) #*(1+0.2*(basic_cloud/8))\n",
    "        \n",
    "        #    #Added 20140121\n",
    "        #    inst.air_temperature = inst.air_temperature - inst.solar_radiation/250\n",
    "        #    inst.soil_temperature = inst.soil_temperature - inst.solar_radiation/250\n",
    "\n",
    "        inst.rain_rate = basic_rain/3600\n",
    "        inst.dt = 600 #10 minute intervals\n",
    "        \n",
    "        BC.append(inst)\n",
    "    \n",
    "    #---Run model---------------------------------------------------------------------\n",
    "    f = open(OUTfile,'w')\n",
    "    SEP = '\\t'\n",
    "\n",
    "    start = time()\n",
    "    n = len(BC)\n",
    "    for i in range(start_step,n):\n",
    "    #for i in range(0,n):\n",
    "        BCnext = BC[i]\n",
    "        litter.Step(BCnext)\n",
    "        line = strftime(\"%Y%m%d %H:%M:%S\",localtime(BC[i].date))+SEP\n",
    "        print (line)\n",
    "        for j in range(1,n_model_layers+1):\n",
    "            line = line +'%.1f' % litter.state[j].T+SEP\n",
    "        for j in range(1,n_model_layers+1):\n",
    "            line = line +'%.3f' % litter.state[j].m+SEP\n",
    "        for j in range(1,n_model_layers+1):\n",
    "            line = line +'%.2f' % litter.state[j].l+SEP\n",
    "        for j in range(1,n_model_layers+1):\n",
    "            line = line +'%.4f' % litter.state[j].q+SEP\n",
    "        f.write(line+'\\n')\n",
    "        f.flush()\n",
    "\n",
    "    finish = time()\n",
    "    print(\"Finished.  Time taken was \"+str(finish-start)+\" seconds.\")\n",
    "    f.close()\n"
   ]
  },
  {
   "cell_type": "markdown",
   "metadata": {},
   "source": [
    "## Getting IC from BOM data.\n",
    "\n",
    "Rainfall - have already from DFMC model.\n",
    "precipitation_url = \"http://www.bom.gov.au/web03/ncc/www/awap/rainfall/totals/daily/grid/0.05/history/nat/\"\n",
    "\n",
    "### Products\n",
    "- IDV71017_VIC_Sky_SFC.nc\n",
    "- IDV71015_VIC_DailyPrecip50Pct_SFC.nc\n",
    "- IDV71006_VIC_Wind_Mag_SFC.nc\n",
    "- IDV71000_VIC_T_SFC.nc\n",
    "- IDV71018_VIC_RH_SFC.nc\n",
    "\n"
   ]
  },
  {
   "cell_type": "code",
   "execution_count": null,
   "metadata": {
    "collapsed": true
   },
   "outputs": [],
   "source": [
    "# NetCDF export\n",
    "    "
   ]
  }
 ],
 "metadata": {
  "kernelspec": {
   "display_name": "Python 3",
   "language": "python",
   "name": "python3"
  },
  "language_info": {
   "codemirror_mode": {
    "name": "ipython",
    "version": 3
   },
   "file_extension": ".py",
   "mimetype": "text/x-python",
   "name": "python",
   "nbconvert_exporter": "python",
   "pygments_lexer": "ipython3",
   "version": "3.6.3"
  }
 },
 "nbformat": 4,
 "nbformat_minor": 2
}
