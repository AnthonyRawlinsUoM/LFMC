{
 "cells": [
  {
   "cell_type": "code",
   "execution_count": 4,
   "metadata": {},
   "outputs": [
    {
     "name": "stdout",
     "output_type": "stream",
     "text": [
      "Collecting xarray\n",
      "  Downloading https://files.pythonhosted.org/packages/73/19/2e0598fa83c13f94be120271800103fc5e57d63bc039fa75cf2be4eb33fe/xarray-0.10.3-py2.py3-none-any.whl (415kB)\n",
      "\u001b[K    100% |████████████████████████████████| 419kB 1.4MB/s eta 0:00:01\n",
      "\u001b[?25hRequirement already satisfied: numpy>=1.11 in /opt/conda/lib/python3.6/site-packages (from xarray)\n",
      "Requirement already satisfied: pandas>=0.18.0 in /opt/conda/lib/python3.6/site-packages (from xarray)\n",
      "Requirement already satisfied: python-dateutil>=2 in /opt/conda/lib/python3.6/site-packages (from pandas>=0.18.0->xarray)\n",
      "Requirement already satisfied: pytz>=2011k in /opt/conda/lib/python3.6/site-packages (from pandas>=0.18.0->xarray)\n",
      "Requirement already satisfied: six>=1.5 in /opt/conda/lib/python3.6/site-packages (from python-dateutil>=2->pandas>=0.18.0->xarray)\n",
      "Installing collected packages: xarray\n",
      "Successfully installed xarray-0.10.3\n",
      "\u001b[33mYou are using pip version 9.0.1, however version 10.0.0 is available.\n",
      "You should consider upgrading via the 'pip install --upgrade pip' command.\u001b[0m\n"
     ]
    }
   ],
   "source": [
    "!pip install xarray"
   ]
  },
  {
   "cell_type": "code",
   "execution_count": 5,
   "metadata": {},
   "outputs": [],
   "source": [
    "import xarray as xr"
   ]
  },
  {
   "cell_type": "code",
   "execution_count": 7,
   "metadata": {},
   "outputs": [],
   "source": [
    "import numpy as np\n",
    "import pandas as pd\n",
    "import datetime as dt\n",
    "\n",
    "import pathlib\n",
    "import multiprocessing, subprocess\n",
    "import urllib.request\n",
    "from urllib.request import Request, urlopen\n",
    "from urllib.error import URLError"
   ]
  },
  {
   "cell_type": "code",
   "execution_count": 16,
   "metadata": {},
   "outputs": [],
   "source": [
    "vapour_url = \"http://www.bom.gov.au/web03/ncc/www/awap/vprp/vprph15/daily/grid/0.05/history/nat/\""
   ]
  },
  {
   "cell_type": "code",
   "execution_count": 17,
   "metadata": {},
   "outputs": [],
   "source": [
    "url = vapour_url + \"2018010120180101.grid.Z\""
   ]
  },
  {
   "cell_type": "code",
   "execution_count": 18,
   "metadata": {},
   "outputs": [],
   "source": [
    "archive_file = \"VP3pm_20180101.grid.Z\""
   ]
  },
  {
   "cell_type": "code",
   "execution_count": 19,
   "metadata": {},
   "outputs": [],
   "source": [
    "try:\n",
    "    urllib.request.urlretrieve(url, archive_file)\n",
    "except URLError as e:\n",
    "    if hasattr(e, 'reason'):\n",
    "        print('We failed to reach a server.')\n",
    "        print('Reason: ', e.reason)\n",
    "    elif hasattr(e, 'code'):\n",
    "        print('The server couldn\\'t fulfill the request.')\n",
    "        print('Error code: ', e.code)"
   ]
  },
  {
   "cell_type": "code",
   "execution_count": 22,
   "metadata": {},
   "outputs": [
    {
     "name": "stdout",
     "output_type": "stream",
     "text": [
      "Collecting netcdf4\n",
      "  Downloading https://files.pythonhosted.org/packages/72/3e/6a85b459f39e782e1e20a20aaa97b16f5c14d1c7421c6141c6f00b9eecc1/netCDF4-1.3.1-cp36-cp36m-manylinux1_x86_64.whl (6.3MB)\n",
      "\u001b[K    100% |████████████████████████████████| 6.3MB 107kB/s eta 0:00:01    91% |█████████████████████████████▍  | 5.8MB 36.9MB/s eta 0:00:01\n",
      "\u001b[?25hRequirement already satisfied: numpy>=1.7 in /opt/conda/lib/python3.6/site-packages (from netcdf4)\n",
      "Installing collected packages: netcdf4\n",
      "Successfully installed netcdf4-1.3.1\n",
      "\u001b[33mYou are using pip version 9.0.1, however version 10.0.0 is available.\n",
      "You should consider upgrading via the 'pip install --upgrade pip' command.\u001b[0m\n"
     ]
    }
   ],
   "source": [
    "!pip install netcdf4"
   ]
  },
  {
   "cell_type": "code",
   "execution_count": 24,
   "metadata": {},
   "outputs": [
    {
     "data": {
      "text/plain": [
       "CompletedProcess(args=['uncompress', '-k', 'VP3pm_20180101.grid.Z'], returncode=0, stdout=b'')"
      ]
     },
     "execution_count": 24,
     "metadata": {},
     "output_type": "execute_result"
    }
   ],
   "source": [
    "subprocess.run([\"uncompress\", \"-k\", archive_file], stdout=subprocess.PIPE)"
   ]
  },
  {
   "cell_type": "code",
   "execution_count": 28,
   "metadata": {},
   "outputs": [
    {
     "name": "stdout",
     "output_type": "stream",
     "text": [
      "Fetching package metadata .............\n",
      "Solving package specifications: .\n",
      "\n",
      "Package plan for installation in environment /opt/conda:\n",
      "\n",
      "The following NEW packages will be INSTALLED:\n",
      "\n",
      "    affine:        2.2.0-py_0        conda-forge\n",
      "    attrs:         17.4.0-py_0       conda-forge\n",
      "    boost:         1.66.0-py36_1     conda-forge\n",
      "    boto3:         1.6.7-py_0        conda-forge\n",
      "    botocore:      1.9.7-py_0        conda-forge\n",
      "    click-plugins: 1.0.3-py36_0      conda-forge\n",
      "    cligj:         0.4.0-py36_0      conda-forge\n",
      "    docutils:      0.14-py36_0       conda-forge\n",
      "    freexl:        1.0.5-0           conda-forge\n",
      "    gdal:          2.2.4-py36_0      conda-forge\n",
      "    geos:          3.6.2-1           conda-forge\n",
      "    geotiff:       1.4.2-1           conda-forge\n",
      "    giflib:        5.1.4-0           conda-forge\n",
      "    hdf4:          4.2.13-0          conda-forge\n",
      "    jmespath:      0.9.3-py36_0      conda-forge\n",
      "    json-c:        0.12.1-0          conda-forge\n",
      "    kealib:        1.4.7-4           conda-forge\n",
      "    libdap4:       3.18.3-2          conda-forge\n",
      "    libgdal:       2.2.4-2           conda-forge\n",
      "    libkml:        1.3.0-6           conda-forge\n",
      "    libnetcdf:     4.6.1-1           conda-forge\n",
      "    libpq:         9.6.3-0           conda-forge\n",
      "    libspatialite: 4.3.0a-19         conda-forge\n",
      "    openjpeg:      2.3.0-2           conda-forge\n",
      "    poppler:       0.61.1-3          conda-forge\n",
      "    poppler-data:  0.4.8-0           conda-forge\n",
      "    proj4:         4.9.3-5           conda-forge\n",
      "    rasterio:      0.36.0-py36_3     conda-forge\n",
      "    s3transfer:    0.1.13-py36_0     conda-forge\n",
      "    snuggs:        1.4.1-py36_0      conda-forge\n",
      "    util-linux:    2.21-0            defaults   \n",
      "    xerces-c:      3.2.0-0           conda-forge\n",
      "\n",
      "The following packages will be UPDATED:\n",
      "\n",
      "    h5py:          2.6.0-np112py36_7 conda-forge --> 2.7.1-py36_3 conda-forge\n",
      "    hdf5:          1.8.17-11         conda-forge --> 1.10.1-2     conda-forge\n",
      "\n",
      "geos-3.6.2-1.t 100% |################################| Time: 0:00:17   1.16 MB/s\n",
      "giflib-5.1.4-0 100% |################################| Time: 0:00:00  25.54 MB/s\n",
      "json-c-0.12.1- 100% |################################| Time: 0:00:00  21.90 MB/s\n",
      "poppler-data-0 100% |################################| Time: 0:00:00   3.97 MB/s\n",
      "proj4-4.9.3-5. 100% |################################| Time: 0:00:01   3.51 MB/s\n",
      "util-linux-2.2 100% |################################| Time: 0:00:00   7.57 MB/s\n",
      "freexl-1.0.5-0 100% |################################| Time: 0:00:00  25.38 MB/s\n",
      "hdf4-4.2.13-0. 100% |################################| Time: 0:00:00   2.07 MB/s\n",
      "hdf5-1.10.1-2. 100% |################################| Time: 0:00:03   1.32 MB/s\n",
      "xerces-c-3.2.0 100% |################################| Time: 0:00:02   1.75 MB/s\n",
      "geotiff-1.4.2- 100% |################################| Time: 0:00:00   1.75 MB/s\n",
      "kealib-1.4.7-4 100% |################################| Time: 0:00:00  16.99 MB/s\n",
      "libpq-9.6.3-0. 100% |################################| Time: 0:00:00  24.08 MB/s\n",
      "openjpeg-2.3.0 100% |################################| Time: 0:00:00   1.64 MB/s\n",
      "libspatialite- 100% |################################| Time: 0:00:02   2.07 MB/s\n",
      "affine-2.2.0-p 100% |################################| Time: 0:00:00  14.20 MB/s\n",
      "attrs-17.4.0-p 100% |################################| Time: 0:00:00  15.37 MB/s\n",
      "docutils-0.14- 100% |################################| Time: 0:00:00   2.95 MB/s\n",
      "jmespath-0.9.3 100% |################################| Time: 0:00:00  16.87 MB/s\n",
      "libdap4-3.18.3 100% |################################| Time: 0:00:04   3.26 MB/s\n",
      "libnetcdf-4.6. 100% |################################| Time: 0:00:00   2.76 MB/s\n",
      "boost-1.66.0-p 100% |################################| Time: 0:00:00   1.36 MB/s\n",
      "click-plugins- 100% |################################| Time: 0:00:00   6.93 MB/s\n",
      "cligj-0.4.0-py 100% |################################| Time: 0:00:00   9.33 MB/s\n",
      "h5py-2.7.1-py3 100% |################################| Time: 0:00:03   1.38 MB/s\n",
      "poppler-0.61.1 100% |################################| Time: 0:00:03   2.22 MB/s\n",
      "snuggs-1.4.1-p 100% |################################| Time: 0:00:00   9.84 MB/s\n",
      "botocore-1.9.7 100% |################################| Time: 0:00:01   2.24 MB/s\n",
      "libkml-1.3.0-6 100% |################################| Time: 0:00:00   2.59 MB/s\n",
      "libgdal-2.2.4- 100% |################################| Time: 0:00:07   2.19 MB/s\n",
      "s3transfer-0.1 100% |################################| Time: 0:00:00  22.99 MB/s\n",
      "boto3-1.6.7-py 100% |################################| Time: 0:00:00  22.51 MB/s\n",
      "gdal-2.2.4-py3 100% |################################| Time: 0:00:00   2.67 MB/s\n",
      "rasterio-0.36. 100% |################################| Time: 0:00:03   1.19 MB/s\n"
     ]
    }
   ],
   "source": [
    "!conda install -y rasterio"
   ]
  },
  {
   "cell_type": "code",
   "execution_count": 43,
   "metadata": {},
   "outputs": [
    {
     "name": "stdout",
     "output_type": "stream",
     "text": [
      "<xarray.DataArray (band: 1, y: 691, x: 886)>\n",
      "[612226 values with dtype=float32]\n",
      "Coordinates:\n",
      "  * band     (band) int64 1\n",
      "  * y        (y) float64 -10.0 -10.05 -10.1 -10.15 -10.2 -10.25 -10.3 -10.35 ...\n",
      "  * x        (x) float64 112.0 112.0 112.1 112.1 112.2 112.2 112.3 112.3 ...\n",
      "Attributes:\n",
      "    transform:   (111.975, 0.05, 0.0, -9.974999999999994, 0.0, -0.05)\n",
      "    res:         (0.05, 0.05)\n",
      "    is_tiled:    0\n",
      "    nodatavals:  (99999.8984375,)\n",
      "OrderedDict([('transform', (111.975, 0.05, 0.0, -9.974999999999994, 0.0, -0.05)), ('res', (0.05, 0.05)), ('is_tiled', 0), ('nodatavals', (99999.8984375,))])\n"
     ]
    }
   ],
   "source": [
    "y = 2018\n",
    "m = 1\n",
    "d = 1\n",
    "\n",
    "with xr.open_rasterio(\"VP3pm_20180101.grid\") as src:\n",
    "    print(src)\n",
    "    src.name=\"VP3pm\"\n",
    "    print(src.attrs)\n",
    "    src.to_netcdf(\"VP3pm_20180101.nc\")"
   ]
  },
  {
   "cell_type": "code",
   "execution_count": 62,
   "metadata": {},
   "outputs": [
    {
     "name": "stdout",
     "output_type": "stream",
     "text": [
      "<xarray.Dataset>\n",
      "Dimensions:    (latitude: 691, longitude: 886, time: 1)\n",
      "Coordinates:\n",
      "  * time       (time) datetime64[ns] 2018-01-01\n",
      "  * latitude   (latitude) float64 -10.0 -10.05 -10.1 -10.15 -10.2 -10.25 ...\n",
      "  * longitude  (longitude) float64 112.0 112.0 112.1 112.1 112.2 112.2 112.3 ...\n",
      "Data variables:\n",
      "    VP3pm      (time, latitude, longitude) float32 ...\n",
      "Attributes:\n",
      "    time:units:  Days since 2018-1-1 00:00:00\n",
      "    crs:         +proj=longlat +ellps=WGS84 +datum=WGS84 +no_defs \n"
     ]
    }
   ],
   "source": [
    "with xr.open_dataset(\"VP3pm_20180101.nc\") as src:\n",
    "    src = src.rename({'y':'latitude', 'x':'longitude', 'band':'time'})\n",
    "    src.coords['time'] = [dt.datetime(int(y), int(m), int(d))]\n",
    "    src.attrs['time:units'] = \"Days since %s-%s-%s 00:00:00\" % (y,m,d)\n",
    "    src.attrs['crs'] = \"+proj=longlat +ellps=WGS84 +datum=WGS84 +no_defs \"\n",
    "    print(src)\n",
    "    src.to_netcdf(\"VP3pm_20180101_nc.nc\")\n",
    "    src.close()"
   ]
  },
  {
   "cell_type": "code",
   "execution_count": 63,
   "metadata": {},
   "outputs": [
    {
     "name": "stdout",
     "output_type": "stream",
     "text": [
      "<xarray.Dataset>\n",
      "Dimensions:    (latitude: 691, longitude: 886, time: 1)\n",
      "Coordinates:\n",
      "  * time       (time) datetime64[ns] 2018-01-01\n",
      "  * latitude   (latitude) float64 -10.0 -10.05 -10.1 -10.15 -10.2 -10.25 ...\n",
      "  * longitude  (longitude) float64 112.0 112.0 112.1 112.1 112.2 112.2 112.3 ...\n",
      "Data variables:\n",
      "    VP3pm      (time, latitude, longitude) float32 ...\n",
      "Attributes:\n",
      "    time:units:  Days since 2018-1-1 00:00:00\n",
      "    crs:         +proj=longlat +ellps=WGS84 +datum=WGS84 +no_defs \n"
     ]
    }
   ],
   "source": [
    "src = xr.open_dataset(\"VP3pm_20180101_nc.nc\")\n",
    "print(src)"
   ]
  },
  {
   "cell_type": "code",
   "execution_count": 57,
   "metadata": {},
   "outputs": [
    {
     "data": {
      "text/plain": [
       "<xarray.DataArray 'VP3pm' (latitude: 691, longitude: 886)>\n",
       "[612226 values with dtype=float32]\n",
       "Coordinates:\n",
       "    time       datetime64[ns] 2018-01-01\n",
       "  * latitude   (latitude) float64 -10.0 -10.05 -10.1 -10.15 -10.2 -10.25 ...\n",
       "  * longitude  (longitude) float64 112.0 112.0 112.1 112.1 112.2 112.2 112.3 ...\n",
       "Attributes:\n",
       "    transform:   [  1.11975000e+02   5.00000000e-02   0.00000000e+00  -9.9750...\n",
       "    res:         [ 0.05  0.05]\n",
       "    is_tiled:    0\n",
       "    nodatavals:  99999.8984375"
      ]
     },
     "execution_count": 57,
     "metadata": {},
     "output_type": "execute_result"
    }
   ],
   "source": [
    "src.isel(time=0)[\"VP3pm\"]"
   ]
  },
  {
   "cell_type": "code",
   "execution_count": 8,
   "metadata": {},
   "outputs": [
    {
     "ename": "RuntimeError",
     "evalue": "This event loop is already running",
     "output_type": "error",
     "traceback": [
      "\u001b[0;31m---------------------------------------------------------------------------\u001b[0m",
      "\u001b[0;31mRuntimeError\u001b[0m                              Traceback (most recent call last)",
      "\u001b[0;32m<ipython-input-8-91a564ec6c7c>\u001b[0m in \u001b[0;36m<module>\u001b[0;34m()\u001b[0m\n\u001b[1;32m     20\u001b[0m \u001b[0mall_groups\u001b[0m \u001b[0;34m=\u001b[0m \u001b[0masyncio\u001b[0m\u001b[0;34m.\u001b[0m\u001b[0mgather\u001b[0m\u001b[0;34m(\u001b[0m\u001b[0mgroup1\u001b[0m\u001b[0;34m,\u001b[0m \u001b[0mgroup2\u001b[0m\u001b[0;34m,\u001b[0m \u001b[0mgroup3\u001b[0m\u001b[0;34m)\u001b[0m\u001b[0;34m\u001b[0m\u001b[0m\n\u001b[1;32m     21\u001b[0m \u001b[0;34m\u001b[0m\u001b[0m\n\u001b[0;32m---> 22\u001b[0;31m \u001b[0mresults\u001b[0m \u001b[0;34m=\u001b[0m \u001b[0mloop\u001b[0m\u001b[0;34m.\u001b[0m\u001b[0mrun_until_complete\u001b[0m\u001b[0;34m(\u001b[0m\u001b[0mall_groups\u001b[0m\u001b[0;34m)\u001b[0m\u001b[0;34m\u001b[0m\u001b[0m\n\u001b[0m\u001b[1;32m     23\u001b[0m \u001b[0;34m\u001b[0m\u001b[0m\n\u001b[1;32m     24\u001b[0m \u001b[0mloop\u001b[0m\u001b[0;34m.\u001b[0m\u001b[0mclose\u001b[0m\u001b[0;34m(\u001b[0m\u001b[0;34m)\u001b[0m\u001b[0;34m\u001b[0m\u001b[0m\n",
      "\u001b[0;32m/opt/conda/lib/python3.6/asyncio/base_events.py\u001b[0m in \u001b[0;36mrun_until_complete\u001b[0;34m(self, future)\u001b[0m\n\u001b[1;32m    453\u001b[0m         \u001b[0mfuture\u001b[0m\u001b[0;34m.\u001b[0m\u001b[0madd_done_callback\u001b[0m\u001b[0;34m(\u001b[0m\u001b[0m_run_until_complete_cb\u001b[0m\u001b[0;34m)\u001b[0m\u001b[0;34m\u001b[0m\u001b[0m\n\u001b[1;32m    454\u001b[0m         \u001b[0;32mtry\u001b[0m\u001b[0;34m:\u001b[0m\u001b[0;34m\u001b[0m\u001b[0m\n\u001b[0;32m--> 455\u001b[0;31m             \u001b[0mself\u001b[0m\u001b[0;34m.\u001b[0m\u001b[0mrun_forever\u001b[0m\u001b[0;34m(\u001b[0m\u001b[0;34m)\u001b[0m\u001b[0;34m\u001b[0m\u001b[0m\n\u001b[0m\u001b[1;32m    456\u001b[0m         \u001b[0;32mexcept\u001b[0m\u001b[0;34m:\u001b[0m\u001b[0;34m\u001b[0m\u001b[0m\n\u001b[1;32m    457\u001b[0m             \u001b[0;32mif\u001b[0m \u001b[0mnew_task\u001b[0m \u001b[0;32mand\u001b[0m \u001b[0mfuture\u001b[0m\u001b[0;34m.\u001b[0m\u001b[0mdone\u001b[0m\u001b[0;34m(\u001b[0m\u001b[0;34m)\u001b[0m \u001b[0;32mand\u001b[0m \u001b[0;32mnot\u001b[0m \u001b[0mfuture\u001b[0m\u001b[0;34m.\u001b[0m\u001b[0mcancelled\u001b[0m\u001b[0;34m(\u001b[0m\u001b[0;34m)\u001b[0m\u001b[0;34m:\u001b[0m\u001b[0;34m\u001b[0m\u001b[0m\n",
      "\u001b[0;32m/opt/conda/lib/python3.6/asyncio/base_events.py\u001b[0m in \u001b[0;36mrun_forever\u001b[0;34m(self)\u001b[0m\n\u001b[1;32m    407\u001b[0m         \u001b[0mself\u001b[0m\u001b[0;34m.\u001b[0m\u001b[0m_check_closed\u001b[0m\u001b[0;34m(\u001b[0m\u001b[0;34m)\u001b[0m\u001b[0;34m\u001b[0m\u001b[0m\n\u001b[1;32m    408\u001b[0m         \u001b[0;32mif\u001b[0m \u001b[0mself\u001b[0m\u001b[0;34m.\u001b[0m\u001b[0mis_running\u001b[0m\u001b[0;34m(\u001b[0m\u001b[0;34m)\u001b[0m\u001b[0;34m:\u001b[0m\u001b[0;34m\u001b[0m\u001b[0m\n\u001b[0;32m--> 409\u001b[0;31m             \u001b[0;32mraise\u001b[0m \u001b[0mRuntimeError\u001b[0m\u001b[0;34m(\u001b[0m\u001b[0;34m'This event loop is already running'\u001b[0m\u001b[0;34m)\u001b[0m\u001b[0;34m\u001b[0m\u001b[0m\n\u001b[0m\u001b[1;32m    410\u001b[0m         \u001b[0;32mif\u001b[0m \u001b[0mevents\u001b[0m\u001b[0;34m.\u001b[0m\u001b[0m_get_running_loop\u001b[0m\u001b[0;34m(\u001b[0m\u001b[0;34m)\u001b[0m \u001b[0;32mis\u001b[0m \u001b[0;32mnot\u001b[0m \u001b[0;32mNone\u001b[0m\u001b[0;34m:\u001b[0m\u001b[0;34m\u001b[0m\u001b[0m\n\u001b[1;32m    411\u001b[0m             raise RuntimeError(\n",
      "\u001b[0;31mRuntimeError\u001b[0m: This event loop is already running"
     ]
    },
    {
     "name": "stdout",
     "output_type": "stream",
     "text": [
      "> group 1.5\n",
      "> group 1.2\n",
      "> group 1.3\n",
      "> group 1.1\n",
      "> group 1.4\n",
      "> group 2.2\n",
      "> group 2.3\n",
      "> group 2.1\n",
      "> group 3.2\n",
      "> group 3.9\n",
      "> group 3.3\n",
      "> group 3.8\n",
      "> group 3.6\n",
      "> group 3.7\n",
      "> group 3.1\n",
      "> group 3.5\n",
      "> group 3.4\n",
      "< group 1.1\n",
      "< group 3.4\n",
      "< group 2.3\n",
      "< group 1.3\n",
      "< group 3.6\n",
      "< group 3.7\n",
      "< group 3.9\n",
      "< group 1.5\n",
      "< group 2.2\n",
      "< group 3.8\n",
      "< group 3.1\n",
      "< group 3.3\n",
      "< group 3.5\n",
      "< group 1.2\n",
      "< group 1.4\n",
      "< group 3.2\n",
      "< group 2.1\n"
     ]
    }
   ],
   "source": [
    "import asyncio\n",
    "from pprint import pprint\n",
    "\n",
    "import random\n",
    "\n",
    "\n",
    "async def coro(tag):\n",
    "    print(\">\", tag)\n",
    "    await asyncio.sleep(random.uniform(1, 3))\n",
    "    print(\"<\", tag)\n",
    "    return tag\n",
    "\n",
    "\n",
    "loop = asyncio.get_event_loop()\n",
    "\n",
    "group1 = asyncio.gather(*[coro(\"group 1.{}\".format(i)) for i in range(1, 6)])\n",
    "group2 = asyncio.gather(*[coro(\"group 2.{}\".format(i)) for i in range(1, 4)])\n",
    "group3 = asyncio.gather(*[coro(\"group 3.{}\".format(i)) for i in range(1, 10)])\n",
    "\n",
    "all_groups = asyncio.gather(group1, group2, group3)\n",
    "\n",
    "results = loop.run_until_complete(all_groups)\n",
    "\n",
    "loop.close()\n",
    "\n",
    "pprint(results)"
   ]
  }
 ],
 "metadata": {
  "kernelspec": {
   "display_name": "Python 3",
   "language": "python",
   "name": "python3"
  },
  "language_info": {
   "codemirror_mode": {
    "name": "ipython",
    "version": 3
   },
   "file_extension": ".py",
   "mimetype": "text/x-python",
   "name": "python",
   "nbconvert_exporter": "python",
   "pygments_lexer": "ipython3",
   "version": "3.6.5"
  }
 },
 "nbformat": 4,
 "nbformat_minor": 2
}
