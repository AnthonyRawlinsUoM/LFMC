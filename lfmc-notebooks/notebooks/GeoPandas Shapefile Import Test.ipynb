{
 "cells": [
  {
   "cell_type": "code",
   "execution_count": 5,
   "metadata": {
    "collapsed": true
   },
   "outputs": [],
   "source": [
    "import os\n",
    "import zipfile\n",
    "\n",
    "def extract_zipfile(filename, dest):\n",
    "    with open(filename, 'rb') as f:\n",
    "        zf = zipfile.ZipFile(f)\n",
    "        zf.extractall(dest)\n",
    "\n",
    "def find_shps(d):\n",
    "    total = 0\n",
    "    for root, dirs, files in os.walk(d):\n",
    "        for file_ in files:\n",
    "            fn = os.path.join(root, file_)\n",
    "            total += _count_file(fn)\n",
    "    return total"
   ]
  },
  {
   "cell_type": "code",
   "execution_count": 7,
   "metadata": {
    "collapsed": true
   },
   "outputs": [],
   "source": [
    "def _count_file(fn):\n",
    "    with open(fn, 'rb') as f:\n",
    "        return _count_file_object(f)\n",
    "\n",
    "def _count_file_object(f):\n",
    "    # Note that this iterates on 'f'.\n",
    "    # You *could* do 'return len(f.read())'\n",
    "    # which would be faster but potentially memory \n",
    "    # inefficient and unrealistic in terms of this \n",
    "    # benchmark experiment. \n",
    "    total = 0\n",
    "    for line in f:\n",
    "        total += len(line)\n",
    "    return total"
   ]
  },
  {
   "cell_type": "code",
   "execution_count": 8,
   "metadata": {},
   "outputs": [
    {
     "data": {
      "text/plain": [
       "881486"
      ]
     },
     "execution_count": 8,
     "metadata": {},
     "output_type": "execute_result"
    }
   ],
   "source": [
    "src = \"/media/arawlins/homedrive/arawlins/Documents/Final.Boundary.zip\"\n",
    "dest = \"/media/arawlins/homedrive/arawlins/Documents/test/\"\n",
    "\n",
    "extract_zipfile(src, dest)\n",
    "find_shps(dest)"
   ]
  },
  {
   "cell_type": "code",
   "execution_count": 13,
   "metadata": {
    "collapsed": true
   },
   "outputs": [],
   "source": []
  },
  {
   "cell_type": "code",
   "execution_count": 5,
   "metadata": {
    "collapsed": true
   },
   "outputs": [],
   "source": [
    "import geopandas as gp\n",
    "import numpy as np\n",
    "import pandas as pd\n",
    "import xarray as xr\n",
    "import regionmask\n",
    "\n",
    "import json\n",
    "import glob\n",
    "import time\n",
    "import cv2\n",
    "\n",
    "from numpy import asarray\n",
    "from scipy.spatial import ConvexHull\n",
    "\n",
    "import cartopy.feature as cfeature\n",
    "import cartopy.crs as ccrs\n",
    "\n",
    "import shapely\n",
    "from shapely.wkt import dumps, loads\n",
    "from shapely.geometry import Polygon, mapping, shape\n",
    "from shapely import affinity\n",
    "\n",
    "from affine import Affine\n",
    "\n"
   ]
  },
  {
   "cell_type": "code",
   "execution_count": 31,
   "metadata": {},
   "outputs": [],
   "source": [
    "geo_json = '''\n",
    "{\n",
    "    \"type\":\"FeatureCollection\",\n",
    "    \"features\":[\n",
    "        \n",
    "        {\n",
    "            \"type\":\"Feature\",\n",
    "            \"properties\":{\n",
    "                \"FIREID\":0,\n",
    "                \"FIRENAME\":\"Kilmore East\",\n",
    "                \"AREATYPE\":\"Spotfire\",\n",
    "                \"SOURCE\":\"API\",\n",
    "                \"CONFIDENCE\":\"Very High\",\n",
    "                \"AUTHOR\":\"Nic Gellie\",\n",
    "                \"COMMENTS\":\"Digitised from post-fire aerial photography\",\n",
    "                \"shape_area\":1312855.9479,\n",
    "                \"shape_len\":6045.9280357600001,\n",
    "                \"Area_ha\":131.3,\n",
    "                \"Perim_km\":6.0\n",
    "            },\n",
    "            \"geometry\":{\n",
    "                \"type\":\"MultiPolygon\",\n",
    "                \"coordinates\":[\n",
    "                    [\n",
    "                        [\n",
    "                            [\n",
    "                                145.473759276505746,\n",
    "                                -37.711444444166929\n",
    "                            ],\n",
    "                            [\n",
    "                                145.474224433339543,\n",
    "                                -37.706250652018895\n",
    "                            ],\n",
    "                            [\n",
    "                                145.48000011431634,\n",
    "                                -37.704402044643601\n",
    "                            ],\n",
    "                            [\n",
    "                                145.482019893331483,\n",
    "                                -37.702077465098093\n",
    "                            ],\n",
    "                            [\n",
    "                                145.485424253951521,\n",
    "                                -37.702192482625897\n",
    "                            ],\n",
    "                            [\n",
    "                                145.484212991212161,\n",
    "                                -37.70003999960899\n",
    "                            ],\n",
    "                            [\n",
    "                                145.485954962710139,\n",
    "                                -37.698139159903093\n",
    "                            ],\n",
    "                            [\n",
    "                                145.489278209274062,\n",
    "                                -37.702241933715939\n",
    "                            ],\n",
    "                            [\n",
    "                                145.49263623843774,\n",
    "                                -37.700219232246781\n",
    "                            ],\n",
    "                            [\n",
    "                                145.49405150206664,\n",
    "                                -37.701163317169602\n",
    "                            ],\n",
    "                            [\n",
    "                                145.494914637603671,\n",
    "                                -37.7028126432335\n",
    "                            ],\n",
    "                            [\n",
    "                                145.488526430951197,\n",
    "                                -37.708358119288569\n",
    "                            ],\n",
    "                            [\n",
    "                                145.483908653685063,\n",
    "                                -37.710578192600657\n",
    "                            ],\n",
    "                            [\n",
    "                                145.473759276505746,\n",
    "                                -37.711444444166929\n",
    "                            ]\n",
    "                        ]\n",
    "                    ]\n",
    "                ]\n",
    "            }\n",
    "        }\n",
    "    ]\n",
    "}'''\n",
    "import json    \n",
    "geo_json = json.loads(geo_json)"
   ]
  },
  {
   "cell_type": "code",
   "execution_count": 33,
   "metadata": {},
   "outputs": [
    {
     "name": "stdout",
     "output_type": "stream",
     "text": [
      "Found a feature collection...\n",
      "Found a Feature.\n",
      "Found MultiPolygon #0\n",
      "[[[[145.47375927650575, -37.71144444416693], [145.47422443333954, -37.706250652018895], [145.48000011431634, -37.7044020446436], [145.48201989333148, -37.70207746509809], [145.48542425395152, -37.7021924826259], [145.48421299121216, -37.70003999960899], [145.48595496271014, -37.69813915990309], [145.48927820927406, -37.70224193371594], [145.49263623843774, -37.70021923224678], [145.49405150206664, -37.7011633171696], [145.49491463760367, -37.7028126432335], [145.4885264309512, -37.70835811928857], [145.48390865368506, -37.71057819260066], [145.47375927650575, -37.71144444416693]]]]\n",
      "3\n"
     ]
    },
    {
     "ename": "AttributeError",
     "evalue": "'list' object has no attribute 'get'",
     "output_type": "error",
     "traceback": [
      "\u001b[0;31m---------------------------------------------------------------------------\u001b[0m",
      "\u001b[0;31mAttributeError\u001b[0m                            Traceback (most recent call last)",
      "\u001b[0;32m<ipython-input-33-9567c2f76802>\u001b[0m in \u001b[0;36m<module>\u001b[0;34m()\u001b[0m\n\u001b[1;32m     29\u001b[0m                 \u001b[0ms\u001b[0m \u001b[0;34m=\u001b[0m \u001b[0mshape\u001b[0m\u001b[0;34m(\u001b[0m\u001b[0mpoints\u001b[0m\u001b[0;34m)\u001b[0m\u001b[0;34m.\u001b[0m\u001b[0mbuffer\u001b[0m\u001b[0;34m\u001b[0m\u001b[0m\n\u001b[1;32m     30\u001b[0m             \u001b[0;32melse\u001b[0m\u001b[0;34m:\u001b[0m\u001b[0;34m\u001b[0m\u001b[0m\n\u001b[0;32m---> 31\u001b[0;31m                 \u001b[0ms\u001b[0m \u001b[0;34m=\u001b[0m \u001b[0mshape\u001b[0m\u001b[0;34m(\u001b[0m\u001b[0mpoints\u001b[0m\u001b[0;34m)\u001b[0m\u001b[0;34m\u001b[0m\u001b[0m\n\u001b[0m\u001b[1;32m     32\u001b[0m             \u001b[0mselections\u001b[0m\u001b[0;34m.\u001b[0m\u001b[0mappend\u001b[0m\u001b[0;34m(\u001b[0m\u001b[0ms\u001b[0m\u001b[0;34m)\u001b[0m\u001b[0;34m\u001b[0m\u001b[0m\n\u001b[1;32m     33\u001b[0m             \u001b[0mnumbers\u001b[0m\u001b[0;34m.\u001b[0m\u001b[0mappend\u001b[0m\u001b[0;34m(\u001b[0m\u001b[0mcount\u001b[0m\u001b[0;34m)\u001b[0m\u001b[0;34m\u001b[0m\u001b[0m\n",
      "\u001b[0;32m/opt/anaconda3/lib/python3.6/site-packages/shapely/geometry/geo.py\u001b[0m in \u001b[0;36mshape\u001b[0;34m(context)\u001b[0m\n\u001b[1;32m     27\u001b[0m     \u001b[0;32melse\u001b[0m\u001b[0;34m:\u001b[0m\u001b[0;34m\u001b[0m\u001b[0m\n\u001b[1;32m     28\u001b[0m         \u001b[0mob\u001b[0m \u001b[0;34m=\u001b[0m \u001b[0mcontext\u001b[0m\u001b[0;34m\u001b[0m\u001b[0m\n\u001b[0;32m---> 29\u001b[0;31m     \u001b[0mgeom_type\u001b[0m \u001b[0;34m=\u001b[0m \u001b[0mob\u001b[0m\u001b[0;34m.\u001b[0m\u001b[0mget\u001b[0m\u001b[0;34m(\u001b[0m\u001b[0;34m\"type\"\u001b[0m\u001b[0;34m)\u001b[0m\u001b[0;34m.\u001b[0m\u001b[0mlower\u001b[0m\u001b[0;34m(\u001b[0m\u001b[0;34m)\u001b[0m\u001b[0;34m\u001b[0m\u001b[0m\n\u001b[0m\u001b[1;32m     30\u001b[0m     \u001b[0;32mif\u001b[0m \u001b[0mgeom_type\u001b[0m \u001b[0;34m==\u001b[0m \u001b[0;34m\"point\"\u001b[0m\u001b[0;34m:\u001b[0m\u001b[0;34m\u001b[0m\u001b[0m\n\u001b[1;32m     31\u001b[0m         \u001b[0;32mreturn\u001b[0m \u001b[0mPoint\u001b[0m\u001b[0;34m(\u001b[0m\u001b[0mob\u001b[0m\u001b[0;34m[\u001b[0m\u001b[0;34m\"coordinates\"\u001b[0m\u001b[0;34m]\u001b[0m\u001b[0;34m)\u001b[0m\u001b[0;34m\u001b[0m\u001b[0m\n",
      "\u001b[0;31mAttributeError\u001b[0m: 'list' object has no attribute 'get'"
     ]
    }
   ],
   "source": [
    "selections = list()\n",
    "count = 0\n",
    "numbers = []\n",
    "names = []\n",
    "abbrevs = []\n",
    "if geo_json[\"type\"] == \"FeatureCollection\":\n",
    "    print(\"Found a feature collection...\")\n",
    "    for p in geo_json[\"features\"]:\n",
    "\n",
    "        print(\"Found a Feature.\")\n",
    "        if p[\"geometry\"][\"type\"] == \"Polygon\":\n",
    "            print(\"Found Polygon #%s\" % count)\n",
    "            points = p[\"geometry\"][\"coordinates\"]\n",
    "            s = shapely.geometry.Polygon(np.asarray(*points))\n",
    "            selections.append(s)\n",
    "            numbers.append(count)\n",
    "            names.append(\"Selection_%s\" % count)\n",
    "            abbrevs.append(\"SEL_%s\" % count)\n",
    "            count += 1\n",
    "\n",
    "        if p[\"geometry\"][\"type\"] == \"MultiPolygon\":\n",
    "            print(\"Found MultiPolygon #%s\" % count)\n",
    "            points = p[\"geometry\"][\"coordinates\"]\n",
    "            print(points)\n",
    "#             s = [x.buffer(0) for x in shape(points).buffer(0).geoms]\n",
    "            pointcloud = np.asarray(*points)\n",
    "            print(pointcloud.ndim)\n",
    "            if pointcloud.ndim > 2 and pointcloud.shape[0] != 1:\n",
    "                s = shape(points).buffer\n",
    "            else:\n",
    "                s = shape(points)\n",
    "            selections.append(s)\n",
    "            numbers.append(count)\n",
    "            names.append(\"Selection_%s\" % count)\n",
    "            abbrevs.append(\"SEL_%s\" % count)\n",
    "            count += 1\n",
    "\n",
    "print(\"With %s Polygons.\" % count)\n",
    "print(\"numbers: %s\" % numbers)\n",
    "print(\"names: %s\" % names)\n",
    "print(\"abbrevs: %s\" % abbrevs)\n",
    "print(\"selections: %s\" % selections)"
   ]
  },
  {
   "cell_type": "code",
   "execution_count": 46,
   "metadata": {},
   "outputs": [
    {
     "name": "stdout",
     "output_type": "stream",
     "text": [
      "Found a feature collection...\n",
      "Found a Feature\n",
      "{'FIREID': 0, 'FIRENAME': 'Kilmore East', 'AREATYPE': 'Spotfire', 'SOURCE': 'API', 'CONFIDENCE': 'Very High', 'AUTHOR': 'Nic Gellie', 'COMMENTS': 'Digitised from post-fire aerial photography', 'shape_area': 1312855.9479, 'shape_len': 6045.92803576, 'Area_ha': 131.3, 'Perim_km': 6.0}\n",
      "Found a MultiPolygon\n"
     ]
    },
    {
     "ename": "AttributeError",
     "evalue": "'list' object has no attribute 'buffer'",
     "output_type": "error",
     "traceback": [
      "\u001b[0;31m---------------------------------------------------------------------------\u001b[0m",
      "\u001b[0;31mAttributeError\u001b[0m                            Traceback (most recent call last)",
      "\u001b[0;32m<ipython-input-46-aacb34b442e1>\u001b[0m in \u001b[0;36m<module>\u001b[0;34m()\u001b[0m\n\u001b[1;32m     10\u001b[0m \u001b[0;34m\u001b[0m\u001b[0m\n\u001b[1;32m     11\u001b[0m         \u001b[0;32mif\u001b[0m \u001b[0mg_type\u001b[0m \u001b[0;34m==\u001b[0m \u001b[0;34m'MultiPolygon'\u001b[0m\u001b[0;34m:\u001b[0m\u001b[0;34m\u001b[0m\u001b[0m\n\u001b[0;32m---> 12\u001b[0;31m             \u001b[0ms\u001b[0m \u001b[0;34m=\u001b[0m \u001b[0mshapely\u001b[0m\u001b[0;34m.\u001b[0m\u001b[0mgeometry\u001b[0m\u001b[0;34m.\u001b[0m\u001b[0mMultiPolygon\u001b[0m\u001b[0;34m(\u001b[0m\u001b[0mcoords\u001b[0m\u001b[0;34m.\u001b[0m\u001b[0mbuffer\u001b[0m\u001b[0;34m(\u001b[0m\u001b[0;36m0\u001b[0m\u001b[0;34m)\u001b[0m\u001b[0;34m)\u001b[0m\u001b[0;34m\u001b[0m\u001b[0m\n\u001b[0m\u001b[1;32m     13\u001b[0m \u001b[0;34m\u001b[0m\u001b[0m\n\u001b[1;32m     14\u001b[0m         \u001b[0;32mif\u001b[0m \u001b[0mg_type\u001b[0m \u001b[0;34m==\u001b[0m \u001b[0;34m'Polygon'\u001b[0m\u001b[0;34m:\u001b[0m\u001b[0;34m\u001b[0m\u001b[0m\n",
      "\u001b[0;31mAttributeError\u001b[0m: 'list' object has no attribute 'buffer'"
     ]
    }
   ],
   "source": [
    "if geo_json[\"type\"] == \"FeatureCollection\":\n",
    "    print(\"Found a feature collection...\")\n",
    "    for p in geo_json[\"features\"]:\n",
    "        print(\"Found a\", p['type'])\n",
    "        print(p['properties'])\n",
    "#         print(p['geometry'])\n",
    "        print(\"Found a\", p['geometry']['type'])\n",
    "        coords = p['geometry']['coordinates']\n",
    "        g_type = p['geometry']['type']\n",
    "        \n",
    "        if g_type == 'MultiPolygon':\n",
    "            s = shapely.geometry.MultiPolygon(coords)\n",
    "            \n",
    "        if g_type == 'Polygon':\n",
    "            s = shapely.geometry.Polygon(coords)"
   ]
  },
  {
   "cell_type": "code",
   "execution_count": 52,
   "metadata": {},
   "outputs": [
    {
     "name": "stdout",
     "output_type": "stream",
     "text": [
      "MULTIPOLYGON (((145.4737592765057 -37.71144444416693, 145.4742244333395 -37.70625065201889, 145.4800001143163 -37.7044020446436, 145.4820198933315 -37.70207746509809, 145.4854242539515 -37.7021924826259, 145.4842129912122 -37.70003999960899, 145.4859549627101 -37.69813915990309, 145.4892782092741 -37.70224193371594, 145.4926362384377 -37.70021923224678, 145.4940515020666 -37.7011633171696, 145.4949146376037 -37.7028126432335, 145.4885264309512 -37.70835811928857, 145.4839086536851 -37.71057819260066, 145.4737592765057 -37.71144444416693)))\n"
     ]
    }
   ],
   "source": [
    "for p in geo_json[\"features\"]:\n",
    "    s = shape(p[\"geometry\"])\n",
    "    print(s)"
   ]
  },
  {
   "cell_type": "code",
   "execution_count": 32,
   "metadata": {},
   "outputs": [
    {
     "data": {
      "text/plain": [
       "{'features': [{'geometry': {'coordinates': [[[[145.47375927650575,\n",
       "        -37.71144444416693],\n",
       "       [145.47422443333954, -37.706250652018895],\n",
       "       [145.48000011431634, -37.7044020446436],\n",
       "       [145.48201989333148, -37.70207746509809],\n",
       "       [145.48542425395152, -37.7021924826259],\n",
       "       [145.48421299121216, -37.70003999960899],\n",
       "       [145.48595496271014, -37.69813915990309],\n",
       "       [145.48927820927406, -37.70224193371594],\n",
       "       [145.49263623843774, -37.70021923224678],\n",
       "       [145.49405150206664, -37.7011633171696],\n",
       "       [145.49491463760367, -37.7028126432335],\n",
       "       [145.4885264309512, -37.70835811928857],\n",
       "       [145.48390865368506, -37.71057819260066],\n",
       "       [145.47375927650575, -37.71144444416693]]]],\n",
       "    'type': 'MultiPolygon'},\n",
       "   'properties': {'AREATYPE': 'Spotfire',\n",
       "    'AUTHOR': 'Nic Gellie',\n",
       "    'Area_ha': 131.3,\n",
       "    'COMMENTS': 'Digitised from post-fire aerial photography',\n",
       "    'CONFIDENCE': 'Very High',\n",
       "    'FIREID': 0,\n",
       "    'FIRENAME': 'Kilmore East',\n",
       "    'Perim_km': 6.0,\n",
       "    'SOURCE': 'API',\n",
       "    'shape_area': 1312855.9479,\n",
       "    'shape_len': 6045.92803576},\n",
       "   'type': 'Feature'}],\n",
       " 'type': 'FeatureCollection'}"
      ]
     },
     "execution_count": 32,
     "metadata": {},
     "output_type": "execute_result"
    }
   ],
   "source": [
    "geo_json"
   ]
  },
  {
   "cell_type": "code",
   "execution_count": null,
   "metadata": {
    "collapsed": true
   },
   "outputs": [],
   "source": []
  }
 ],
 "metadata": {
  "kernelspec": {
   "display_name": "Python 3",
   "language": "python",
   "name": "python3"
  },
  "language_info": {
   "codemirror_mode": {
    "name": "ipython",
    "version": 3
   },
   "file_extension": ".py",
   "mimetype": "text/x-python",
   "name": "python",
   "nbconvert_exporter": "python",
   "pygments_lexer": "ipython3",
   "version": "3.6.3"
  }
 },
 "nbformat": 4,
 "nbformat_minor": 2
}
