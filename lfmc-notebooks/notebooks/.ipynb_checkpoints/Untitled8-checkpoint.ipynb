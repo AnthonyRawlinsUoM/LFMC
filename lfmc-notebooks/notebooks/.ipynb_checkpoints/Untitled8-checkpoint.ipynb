{
 "cells": [
  {
   "cell_type": "code",
   "execution_count": 2,
   "metadata": {
    "collapsed": true
   },
   "outputs": [],
   "source": [
    "import xarray as xr\n",
    "import glob \n",
    "\n",
    "fs = ['20180509', '20180510']\n",
    "\n",
    "fpath = '/media/arawlins/Backups/DataSources/geoserver_data/FuelModels/Weather/'\n",
    "fname = 'IDV71117_VIC_FFDI_SFC.nc'\n",
    "paths = [fpath + dtf + '/' + fname for dtf in fs]\n",
    "\n"
   ]
  },
  {
   "cell_type": "code",
   "execution_count": 45,
   "metadata": {},
   "outputs": [],
   "source": [
    "ds1 = xr.open_dataset(paths[0])\n",
    "ds2 = xr.open_dataset(paths[1])"
   ]
  },
  {
   "cell_type": "code",
   "execution_count": 42,
   "metadata": {},
   "outputs": [],
   "source": [
    "# prune data from ds1 where time >= ds2.time\n",
    "ds1_start = ds1[\"FFDI_SFC\"].isel(time=0).time.values\n",
    "ds2_start = ds2[\"FFDI_SFC\"].isel(time=0).time.values\n",
    "ds1_subset = ds1.sel(time=slice(str(ds1_start), str(ds2_start)))\n",
    "ds12_merge = xr.concat([ds1_subset, ds2], dim='time')"
   ]
  },
  {
   "cell_type": "code",
   "execution_count": 43,
   "metadata": {},
   "outputs": [
    {
     "data": {
      "text/plain": [
       "<xarray.Dataset>\n",
       "Dimensions:    (latitude: 292, longitude: 341, time: 188)\n",
       "Coordinates:\n",
       "  * latitude   (latitude) float32 -39.76 -39.739998 -39.719997 -39.699997 ...\n",
       "  * longitude  (longitude) float32 140.9029 140.93271 140.96252 140.99232 ...\n",
       "  * time       (time) datetime64[ns] 2018-05-08T19:00:00 2018-05-08T20:00:00 ...\n",
       "Data variables:\n",
       "    FFDI_SFC   (time, latitude, longitude) float64 nan nan nan nan nan nan ...\n",
       "Attributes:\n",
       "    creationTime:        1525806814\n",
       "    creationTimeString:  2018-05-08T19:13:34.281684Z\n",
       "    Conventions:         COARDS"
      ]
     },
     "execution_count": 43,
     "metadata": {},
     "output_type": "execute_result"
    }
   ],
   "source": [
    "ds12_merge"
   ]
  },
  {
   "cell_type": "code",
   "execution_count": null,
   "metadata": {
    "collapsed": true
   },
   "outputs": [],
   "source": [
    "# As function\n",
    "\n",
    "def merge_by_time(self, path_a, path_b):\n",
    "    ds1_start = ds1[\"FFDI_SFC\"].isel(time=0).time.values\n",
    "    ds2_start = ds2[\"FFDI_SFC\"].isel(time=0).time.values\n",
    "    ds1_subset = ds1.sel(time=slice(str(ds1_start), str(ds2_start)))\n",
    "    return xr.concat([ds1_subset, ds2], dim='time')"
   ]
  },
  {
   "cell_type": "code",
   "execution_count": 46,
   "metadata": {
    "collapsed": true
   },
   "outputs": [],
   "source": [
    "fs = [20180509, 20180510, 20180512, 20180511]\n",
    "fs.sort()"
   ]
  },
  {
   "cell_type": "code",
   "execution_count": 50,
   "metadata": {},
   "outputs": [
    {
     "name": "stdout",
     "output_type": "stream",
     "text": [
      "A: 20180509, B: 20180510\n",
      "\n",
      "A: 20180510, B: 20180511\n",
      "\n",
      "A: 20180511, B: 20180512\n",
      "\n"
     ]
    }
   ],
   "source": [
    "fs\n",
    "\n",
    "while len(fs) > 1:\n",
    "    print(\"A: %s, B: %s\\n\" % (fs[0], fs[1]))\n",
    "    fs = fs[1:]"
   ]
  },
  {
   "cell_type": "code",
   "execution_count": 48,
   "metadata": {},
   "outputs": [
    {
     "data": {
      "text/plain": [
       "<xarray.Dataset>\n",
       "Dimensions:    (latitude: 292, longitude: 341, time: 188)\n",
       "Coordinates:\n",
       "  * latitude   (latitude) float32 -39.76 -39.739998 -39.719997 -39.699997 ...\n",
       "  * longitude  (longitude) float32 140.9029 140.93271 140.96252 140.99232 ...\n",
       "  * time       (time) datetime64[ns] 2018-05-08T19:00:00 2018-05-08T20:00:00 ...\n",
       "Data variables:\n",
       "    FFDI_SFC   (time, latitude, longitude) float64 nan nan nan nan nan nan ...\n",
       "Attributes:\n",
       "    creationTime:        1525806814\n",
       "    creationTimeString:  2018-05-08T19:13:34.281684Z\n",
       "    Conventions:         COARDS"
      ]
     },
     "execution_count": 48,
     "metadata": {},
     "output_type": "execute_result"
    }
   ],
   "source": [
    "ds12_merge"
   ]
  },
  {
   "cell_type": "code",
   "execution_count": null,
   "metadata": {
    "collapsed": true
   },
   "outputs": [],
   "source": []
  }
 ],
 "metadata": {
  "kernelspec": {
   "display_name": "Python 3",
   "language": "python",
   "name": "python3"
  },
  "language_info": {
   "codemirror_mode": {
    "name": "ipython",
    "version": 3
   },
   "file_extension": ".py",
   "mimetype": "text/x-python",
   "name": "python",
   "nbconvert_exporter": "python",
   "pygments_lexer": "ipython3",
   "version": "3.6.3"
  }
 },
 "nbformat": 4,
 "nbformat_minor": 2
}
