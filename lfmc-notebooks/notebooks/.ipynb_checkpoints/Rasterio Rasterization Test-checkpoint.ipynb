{
 "cells": [
  {
   "cell_type": "code",
   "execution_count": 2,
   "metadata": {},
   "outputs": [
    {
     "name": "stdout",
     "output_type": "stream",
     "text": [
      "Collecting geojson\n",
      "  Downloading https://files.pythonhosted.org/packages/1c/59/5d8f40aa03591d68fa6bf99268810c66a0fbc82b9598e40822f3fd9149d2/geojson-2.3.0-py2.py3-none-any.whl\n",
      "Installing collected packages: geojson\n",
      "Successfully installed geojson-2.3.0\n",
      "\u001b[33mYou are using pip version 9.0.1, however version 10.0.1 is available.\n",
      "You should consider upgrading via the 'pip install --upgrade pip' command.\u001b[0m\n"
     ]
    }
   ],
   "source": [
    "!pip install geojson"
   ]
  },
  {
   "cell_type": "code",
   "execution_count": null,
   "metadata": {},
   "outputs": [],
   "source": [
    "import geojson\n",
    "import shapely\n",
    "from rasterio.features import rasterize\n",
    "from shapely.geometry import Polygon\n",
    "\n",
    "# Params for raster image with same bounding box (copied from another image)\n",
    "bounds = (119.52, -21.6, 120.90, -20.5)\n",
    "bounding_poly = shapely.geometry.Polygon(\n",
    "    ((bounds[0], bounds[1]), (bounds[2], bounds[1]), \n",
    "     (bounds[2], bounds[3]), (bounds[0], bounds[3])))\n",
    "rparams = dict(\n",
    "    transform=[119.51991271972656, 0.0002777777845000003, 0.0, \n",
    "               -20.49996440274175, 0.0, -0.0002777777845000005],\n",
    "    out_shape=(3961, 4969)\n",
    ")\n",
    "\n",
    "# Make raster image, burn in vector data which lies completely inside the bounding box\n",
    "poly = Polygon(((120, -21), (120.5, -21), (120.5, -21.2), (120, -21.2)))\n",
    "rasterize([geojson.dumps(poly)], **rparams)  # Python halts and catches fire"
   ]
  },
  {
   "cell_type": "code",
   "execution_count": null,
   "metadata": {
    "collapsed": true
   },
   "outputs": [],
   "source": []
  }
 ],
 "metadata": {
  "kernelspec": {
   "display_name": "Python 3",
   "language": "python",
   "name": "python3"
  },
  "language_info": {
   "codemirror_mode": {
    "name": "ipython",
    "version": 3
   },
   "file_extension": ".py",
   "mimetype": "text/x-python",
   "name": "python",
   "nbconvert_exporter": "python",
   "pygments_lexer": "ipython3",
   "version": "3.6.3"
  }
 },
 "nbformat": 4,
 "nbformat_minor": 2
}
