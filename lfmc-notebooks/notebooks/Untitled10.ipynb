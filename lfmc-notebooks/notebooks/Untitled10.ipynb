{
 "cells": [
  {
   "cell_type": "code",
   "execution_count": 79,
   "metadata": {},
   "outputs": [],
   "source": [
    "def unique_from_nestedlist(inventory):\n",
    "    unique_data = []\n",
    "    if type(inventory) is list:\n",
    "        for i in inventory:\n",
    "            if type(i) is list:\n",
    "                unique_row = unique_from_nestedlist(i)\n",
    "                [unique_data.insert(0, a) for a in unique_row if a not in unique_data]\n",
    "            else:\n",
    "                unique_data.insert(0, i)\n",
    "    return sorted(unique_data)"
   ]
  },
  {
   "cell_type": "code",
   "execution_count": 80,
   "metadata": {},
   "outputs": [
    {
     "data": {
      "text/plain": [
       "[1, 2, 3, 4, 5, 6, 7, 8, 9, 10]"
      ]
     },
     "execution_count": 80,
     "metadata": {},
     "output_type": "execute_result"
    }
   ],
   "source": [
    "a = [[[1],[2],[3, 4, 5, 6]],\n",
    "     [[3],[4],[5]],\n",
    "     [[4],[5],[6]],\n",
    "     [[1],[3],[5]],\n",
    "     [[2],[4],[6]],\n",
    "     [[5],[6],[7]],\n",
    "     [[7],[8],[9, 10]]]\n",
    "unique_from_nestedlist(a)"
   ]
  },
  {
   "cell_type": "code",
   "execution_count": 81,
   "metadata": {},
   "outputs": [
    {
     "data": {
      "text/plain": [
       "['abc', 'def']"
      ]
     },
     "execution_count": 81,
     "metadata": {},
     "output_type": "execute_result"
    }
   ],
   "source": [
    "a = ['abc','def']\n",
    "unique_from_nestedlist(a)"
   ]
  },
  {
   "cell_type": "code",
   "execution_count": 82,
   "metadata": {},
   "outputs": [
    {
     "data": {
      "text/plain": [
       "['abc', 'def']"
      ]
     },
     "execution_count": 82,
     "metadata": {},
     "output_type": "execute_result"
    }
   ],
   "source": [
    "a = [['abc','def']]\n",
    "unique_from_nestedlist(a)"
   ]
  },
  {
   "cell_type": "code",
   "execution_count": 84,
   "metadata": {},
   "outputs": [
    {
     "data": {
      "text/plain": [
       "['https://e4ftl01.cr.usgs.gov//MODV6_Cmp_C/MOLT/MOD09A1.006/2018.04.15/MOD09A1.A2018105.h27v11.006.2018114035334.hdf',\n",
       " 'https://e4ftl01.cr.usgs.gov//MODV6_Cmp_C/MOLT/MOD09A1.006/2018.04.15/MOD09A1.A2018105.h27v12.006.2018114035039.hdf',\n",
       " 'https://e4ftl01.cr.usgs.gov//MODV6_Cmp_C/MOLT/MOD09A1.006/2018.04.15/MOD09A1.A2018105.h28v09.006.2018114034134.hdf',\n",
       " 'https://e4ftl01.cr.usgs.gov//MODV6_Cmp_C/MOLT/MOD09A1.006/2018.04.15/MOD09A1.A2018105.h28v10.006.2018114035603.hdf',\n",
       " 'https://e4ftl01.cr.usgs.gov//MODV6_Cmp_C/MOLT/MOD09A1.006/2018.04.15/MOD09A1.A2018105.h28v11.006.2018114034959.hdf',\n",
       " 'https://e4ftl01.cr.usgs.gov//MODV6_Cmp_C/MOLT/MOD09A1.006/2018.04.15/MOD09A1.A2018105.h28v12.006.2018114035224.hdf',\n",
       " 'https://e4ftl01.cr.usgs.gov//MODV6_Cmp_C/MOLT/MOD09A1.006/2018.04.15/MOD09A1.A2018105.h28v13.006.2018114035454.hdf',\n",
       " 'https://e4ftl01.cr.usgs.gov//MODV6_Cmp_C/MOLT/MOD09A1.006/2018.04.15/MOD09A1.A2018105.h29v09.006.2018114035125.hdf',\n",
       " 'https://e4ftl01.cr.usgs.gov//MODV6_Cmp_C/MOLT/MOD09A1.006/2018.04.15/MOD09A1.A2018105.h29v10.006.2018114040112.hdf',\n",
       " 'https://e4ftl01.cr.usgs.gov//MODV6_Cmp_C/MOLT/MOD09A1.006/2018.04.15/MOD09A1.A2018105.h29v11.006.2018114035633.hdf',\n",
       " 'https://e4ftl01.cr.usgs.gov//MODV6_Cmp_C/MOLT/MOD09A1.006/2018.04.15/MOD09A1.A2018105.h29v12.006.2018114035302.hdf',\n",
       " 'https://e4ftl01.cr.usgs.gov//MODV6_Cmp_C/MOLT/MOD09A1.006/2018.04.15/MOD09A1.A2018105.h29v13.006.2018114040057.hdf',\n",
       " 'https://e4ftl01.cr.usgs.gov//MODV6_Cmp_C/MOLT/MOD09A1.006/2018.04.15/MOD09A1.A2018105.h30v09.006.2018114035541.hdf',\n",
       " 'https://e4ftl01.cr.usgs.gov//MODV6_Cmp_C/MOLT/MOD09A1.006/2018.04.15/MOD09A1.A2018105.h30v10.006.2018114034809.hdf',\n",
       " 'https://e4ftl01.cr.usgs.gov//MODV6_Cmp_C/MOLT/MOD09A1.006/2018.04.15/MOD09A1.A2018105.h30v11.006.2018114035032.hdf',\n",
       " 'https://e4ftl01.cr.usgs.gov//MODV6_Cmp_C/MOLT/MOD09A1.006/2018.04.15/MOD09A1.A2018105.h30v12.006.2018114034213.hdf',\n",
       " 'https://e4ftl01.cr.usgs.gov//MODV6_Cmp_C/MOLT/MOD09A1.006/2018.04.15/MOD09A1.A2018105.h31v09.006.2018114035507.hdf',\n",
       " 'https://e4ftl01.cr.usgs.gov//MODV6_Cmp_C/MOLT/MOD09A1.006/2018.04.15/MOD09A1.A2018105.h31v10.006.2018114034850.hdf',\n",
       " 'https://e4ftl01.cr.usgs.gov//MODV6_Cmp_C/MOLT/MOD09A1.006/2018.04.15/MOD09A1.A2018105.h31v11.006.2018114035200.hdf',\n",
       " 'https://e4ftl01.cr.usgs.gov//MODV6_Cmp_C/MOLT/MOD09A1.006/2018.04.15/MOD09A1.A2018105.h31v12.006.2018114035239.hdf',\n",
       " 'https://e4ftl01.cr.usgs.gov//MODV6_Cmp_C/MOLT/MOD09A1.006/2018.04.15/MOD09A1.A2018105.h32v09.006.2018114035207.hdf',\n",
       " 'https://e4ftl01.cr.usgs.gov//MODV6_Cmp_C/MOLT/MOD09A1.006/2018.04.15/MOD09A1.A2018105.h32v10.006.2018114034246.hdf',\n",
       " 'https://e4ftl01.cr.usgs.gov//MODV6_Cmp_C/MOLT/MOD09A1.006/2018.04.15/MOD09A1.A2018105.h32v11.006.2018114035104.hdf',\n",
       " 'https://e4ftl01.cr.usgs.gov//MODV6_Cmp_C/MOLT/MOD09A1.006/2018.04.15/MOD09A1.A2018105.h33v09.006.2018114034225.hdf',\n",
       " 'https://e4ftl01.cr.usgs.gov//MODV6_Cmp_C/MOLT/MOD09A1.006/2018.04.15/MOD09A1.A2018105.h33v10.006.2018114034343.hdf',\n",
       " 'https://e4ftl01.cr.usgs.gov//MODV6_Cmp_C/MOLT/MOD09A1.006/2018.04.23/MOD09A1.A2018113.h27v11.006.2018122040926.hdf',\n",
       " 'https://e4ftl01.cr.usgs.gov//MODV6_Cmp_C/MOLT/MOD09A1.006/2018.04.23/MOD09A1.A2018113.h27v12.006.2018122040827.hdf',\n",
       " 'https://e4ftl01.cr.usgs.gov//MODV6_Cmp_C/MOLT/MOD09A1.006/2018.04.23/MOD09A1.A2018113.h28v09.006.2018122040254.hdf',\n",
       " 'https://e4ftl01.cr.usgs.gov//MODV6_Cmp_C/MOLT/MOD09A1.006/2018.04.23/MOD09A1.A2018113.h28v10.006.2018122040239.hdf',\n",
       " 'https://e4ftl01.cr.usgs.gov//MODV6_Cmp_C/MOLT/MOD09A1.006/2018.04.23/MOD09A1.A2018113.h28v11.006.2018122040815.hdf',\n",
       " 'https://e4ftl01.cr.usgs.gov//MODV6_Cmp_C/MOLT/MOD09A1.006/2018.04.23/MOD09A1.A2018113.h28v12.006.2018122041026.hdf',\n",
       " 'https://e4ftl01.cr.usgs.gov//MODV6_Cmp_C/MOLT/MOD09A1.006/2018.04.23/MOD09A1.A2018113.h28v13.006.2018122041358.hdf',\n",
       " 'https://e4ftl01.cr.usgs.gov//MODV6_Cmp_C/MOLT/MOD09A1.006/2018.04.23/MOD09A1.A2018113.h29v09.006.2018122040126.hdf',\n",
       " 'https://e4ftl01.cr.usgs.gov//MODV6_Cmp_C/MOLT/MOD09A1.006/2018.04.23/MOD09A1.A2018113.h29v10.006.2018122041115.hdf',\n",
       " 'https://e4ftl01.cr.usgs.gov//MODV6_Cmp_C/MOLT/MOD09A1.006/2018.04.23/MOD09A1.A2018113.h29v11.006.2018122041054.hdf',\n",
       " 'https://e4ftl01.cr.usgs.gov//MODV6_Cmp_C/MOLT/MOD09A1.006/2018.04.23/MOD09A1.A2018113.h29v12.006.2018122041216.hdf',\n",
       " 'https://e4ftl01.cr.usgs.gov//MODV6_Cmp_C/MOLT/MOD09A1.006/2018.04.23/MOD09A1.A2018113.h29v13.006.2018122041531.hdf',\n",
       " 'https://e4ftl01.cr.usgs.gov//MODV6_Cmp_C/MOLT/MOD09A1.006/2018.04.23/MOD09A1.A2018113.h30v09.006.2018122040653.hdf',\n",
       " 'https://e4ftl01.cr.usgs.gov//MODV6_Cmp_C/MOLT/MOD09A1.006/2018.04.23/MOD09A1.A2018113.h30v10.006.2018122040916.hdf',\n",
       " 'https://e4ftl01.cr.usgs.gov//MODV6_Cmp_C/MOLT/MOD09A1.006/2018.04.23/MOD09A1.A2018113.h30v11.006.2018122040620.hdf',\n",
       " 'https://e4ftl01.cr.usgs.gov//MODV6_Cmp_C/MOLT/MOD09A1.006/2018.04.23/MOD09A1.A2018113.h30v12.006.2018122041516.hdf',\n",
       " 'https://e4ftl01.cr.usgs.gov//MODV6_Cmp_C/MOLT/MOD09A1.006/2018.04.23/MOD09A1.A2018113.h31v09.006.2018122040623.hdf',\n",
       " 'https://e4ftl01.cr.usgs.gov//MODV6_Cmp_C/MOLT/MOD09A1.006/2018.04.23/MOD09A1.A2018113.h31v10.006.2018122040709.hdf',\n",
       " 'https://e4ftl01.cr.usgs.gov//MODV6_Cmp_C/MOLT/MOD09A1.006/2018.04.23/MOD09A1.A2018113.h31v11.006.2018122040747.hdf',\n",
       " 'https://e4ftl01.cr.usgs.gov//MODV6_Cmp_C/MOLT/MOD09A1.006/2018.04.23/MOD09A1.A2018113.h31v12.006.2018122041301.hdf',\n",
       " 'https://e4ftl01.cr.usgs.gov//MODV6_Cmp_C/MOLT/MOD09A1.006/2018.04.23/MOD09A1.A2018113.h32v09.006.2018122040132.hdf',\n",
       " 'https://e4ftl01.cr.usgs.gov//MODV6_Cmp_C/MOLT/MOD09A1.006/2018.04.23/MOD09A1.A2018113.h32v10.006.2018122041229.hdf',\n",
       " 'https://e4ftl01.cr.usgs.gov//MODV6_Cmp_C/MOLT/MOD09A1.006/2018.04.23/MOD09A1.A2018113.h32v11.006.2018122041156.hdf',\n",
       " 'https://e4ftl01.cr.usgs.gov//MODV6_Cmp_C/MOLT/MOD09A1.006/2018.04.23/MOD09A1.A2018113.h33v09.006.2018122041101.hdf',\n",
       " 'https://e4ftl01.cr.usgs.gov//MODV6_Cmp_C/MOLT/MOD09A1.006/2018.04.23/MOD09A1.A2018113.h33v10.006.2018122040907.hdf']"
      ]
     },
     "execution_count": 84,
     "metadata": {},
     "output_type": "execute_result"
    }
   ],
   "source": [
    "a = [[\n",
    "'https://e4ftl01.cr.usgs.gov//MODV6_Cmp_C/MOLT/MOD09A1.006/2018.04.15/MOD09A1.A2018105.h29v10.006.2018114040112.hdf',\n",
    "'https://e4ftl01.cr.usgs.gov//MODV6_Cmp_C/MOLT/MOD09A1.006/2018.04.15/MOD09A1.A2018105.h29v13.006.2018114040057.hdf',\n",
    "'https://e4ftl01.cr.usgs.gov//MODV6_Cmp_C/MOLT/MOD09A1.006/2018.04.15/MOD09A1.A2018105.h33v09.006.2018114034225.hdf',\n",
    "'https://e4ftl01.cr.usgs.gov//MODV6_Cmp_C/MOLT/MOD09A1.006/2018.04.15/MOD09A1.A2018105.h33v10.006.2018114034343.hdf',\n",
    "'https://e4ftl01.cr.usgs.gov//MODV6_Cmp_C/MOLT/MOD09A1.006/2018.04.15/MOD09A1.A2018105.h29v11.006.2018114035633.hdf',\n",
    "'https://e4ftl01.cr.usgs.gov//MODV6_Cmp_C/MOLT/MOD09A1.006/2018.04.15/MOD09A1.A2018105.h31v10.006.2018114034850.hdf',\n",
    "'https://e4ftl01.cr.usgs.gov//MODV6_Cmp_C/MOLT/MOD09A1.006/2018.04.15/MOD09A1.A2018105.h29v09.006.2018114035125.hdf',\n",
    "'https://e4ftl01.cr.usgs.gov//MODV6_Cmp_C/MOLT/MOD09A1.006/2018.04.15/MOD09A1.A2018105.h29v12.006.2018114035302.hdf',\n",
    "'https://e4ftl01.cr.usgs.gov//MODV6_Cmp_C/MOLT/MOD09A1.006/2018.04.15/MOD09A1.A2018105.h28v09.006.2018114034134.hdf',\n",
    "'https://e4ftl01.cr.usgs.gov//MODV6_Cmp_C/MOLT/MOD09A1.006/2018.04.15/MOD09A1.A2018105.h30v09.006.2018114035541.hdf',\n",
    "'https://e4ftl01.cr.usgs.gov//MODV6_Cmp_C/MOLT/MOD09A1.006/2018.04.15/MOD09A1.A2018105.h28v13.006.2018114035454.hdf',\n",
    "'https://e4ftl01.cr.usgs.gov//MODV6_Cmp_C/MOLT/MOD09A1.006/2018.04.15/MOD09A1.A2018105.h31v12.006.2018114035239.hdf',\n",
    "'https://e4ftl01.cr.usgs.gov//MODV6_Cmp_C/MOLT/MOD09A1.006/2018.04.15/MOD09A1.A2018105.h28v11.006.2018114034959.hdf',\n",
    "'https://e4ftl01.cr.usgs.gov//MODV6_Cmp_C/MOLT/MOD09A1.006/2018.04.15/MOD09A1.A2018105.h32v09.006.2018114035207.hdf',\n",
    "'https://e4ftl01.cr.usgs.gov//MODV6_Cmp_C/MOLT/MOD09A1.006/2018.04.15/MOD09A1.A2018105.h31v11.006.2018114035200.hdf',\n",
    "'https://e4ftl01.cr.usgs.gov//MODV6_Cmp_C/MOLT/MOD09A1.006/2018.04.15/MOD09A1.A2018105.h30v11.006.2018114035032.hdf',\n",
    "'https://e4ftl01.cr.usgs.gov//MODV6_Cmp_C/MOLT/MOD09A1.006/2018.04.15/MOD09A1.A2018105.h32v10.006.2018114034246.hdf',\n",
    "'https://e4ftl01.cr.usgs.gov//MODV6_Cmp_C/MOLT/MOD09A1.006/2018.04.15/MOD09A1.A2018105.h28v12.006.2018114035224.hdf',\n",
    "'https://e4ftl01.cr.usgs.gov//MODV6_Cmp_C/MOLT/MOD09A1.006/2018.04.15/MOD09A1.A2018105.h32v11.006.2018114035104.hdf',\n",
    "'https://e4ftl01.cr.usgs.gov//MODV6_Cmp_C/MOLT/MOD09A1.006/2018.04.15/MOD09A1.A2018105.h27v12.006.2018114035039.hdf',\n",
    "'https://e4ftl01.cr.usgs.gov//MODV6_Cmp_C/MOLT/MOD09A1.006/2018.04.15/MOD09A1.A2018105.h30v10.006.2018114034809.hdf',\n",
    "'https://e4ftl01.cr.usgs.gov//MODV6_Cmp_C/MOLT/MOD09A1.006/2018.04.15/MOD09A1.A2018105.h31v09.006.2018114035507.hdf',\n",
    "'https://e4ftl01.cr.usgs.gov//MODV6_Cmp_C/MOLT/MOD09A1.006/2018.04.15/MOD09A1.A2018105.h27v11.006.2018114035334.hdf',\n",
    "'https://e4ftl01.cr.usgs.gov//MODV6_Cmp_C/MOLT/MOD09A1.006/2018.04.15/MOD09A1.A2018105.h30v12.006.2018114034213.hdf',\n",
    "'https://e4ftl01.cr.usgs.gov//MODV6_Cmp_C/MOLT/MOD09A1.006/2018.04.15/MOD09A1.A2018105.h28v10.006.2018114035603.hdf'\n",
    "],\n",
    "    [\n",
    "'https://e4ftl01.cr.usgs.gov//MODV6_Cmp_C/MOLT/MOD09A1.006/2018.04.23/MOD09A1.A2018113.h32v09.006.2018122040132.hdf',\n",
    "'https://e4ftl01.cr.usgs.gov//MODV6_Cmp_C/MOLT/MOD09A1.006/2018.04.23/MOD09A1.A2018113.h29v09.006.2018122040126.hdf',\n",
    "'https://e4ftl01.cr.usgs.gov//MODV6_Cmp_C/MOLT/MOD09A1.006/2018.04.23/MOD09A1.A2018113.h28v10.006.2018122040239.hdf',\n",
    "'https://e4ftl01.cr.usgs.gov//MODV6_Cmp_C/MOLT/MOD09A1.006/2018.04.23/MOD09A1.A2018113.h30v09.006.2018122040653.hdf',\n",
    "'https://e4ftl01.cr.usgs.gov//MODV6_Cmp_C/MOLT/MOD09A1.006/2018.04.23/MOD09A1.A2018113.h28v09.006.2018122040254.hdf',\n",
    "'https://e4ftl01.cr.usgs.gov//MODV6_Cmp_C/MOLT/MOD09A1.006/2018.04.23/MOD09A1.A2018113.h32v10.006.2018122041229.hdf',\n",
    "'https://e4ftl01.cr.usgs.gov//MODV6_Cmp_C/MOLT/MOD09A1.006/2018.04.23/MOD09A1.A2018113.h28v13.006.2018122041358.hdf',\n",
    "'https://e4ftl01.cr.usgs.gov//MODV6_Cmp_C/MOLT/MOD09A1.006/2018.04.23/MOD09A1.A2018113.h29v10.006.2018122041115.hdf',\n",
    "'https://e4ftl01.cr.usgs.gov//MODV6_Cmp_C/MOLT/MOD09A1.006/2018.04.23/MOD09A1.A2018113.h28v12.006.2018122041026.hdf',\n",
    "'https://e4ftl01.cr.usgs.gov//MODV6_Cmp_C/MOLT/MOD09A1.006/2018.04.23/MOD09A1.A2018113.h31v10.006.2018122040709.hdf',\n",
    "'https://e4ftl01.cr.usgs.gov//MODV6_Cmp_C/MOLT/MOD09A1.006/2018.04.23/MOD09A1.A2018113.h30v11.006.2018122040620.hdf',\n",
    "'https://e4ftl01.cr.usgs.gov//MODV6_Cmp_C/MOLT/MOD09A1.006/2018.04.23/MOD09A1.A2018113.h31v11.006.2018122040747.hdf',\n",
    "'https://e4ftl01.cr.usgs.gov//MODV6_Cmp_C/MOLT/MOD09A1.006/2018.04.23/MOD09A1.A2018113.h29v13.006.2018122041531.hdf',\n",
    "'https://e4ftl01.cr.usgs.gov//MODV6_Cmp_C/MOLT/MOD09A1.006/2018.04.23/MOD09A1.A2018113.h27v11.006.2018122040926.hdf',\n",
    "'https://e4ftl01.cr.usgs.gov//MODV6_Cmp_C/MOLT/MOD09A1.006/2018.04.23/MOD09A1.A2018113.h31v09.006.2018122040623.hdf',\n",
    "'https://e4ftl01.cr.usgs.gov//MODV6_Cmp_C/MOLT/MOD09A1.006/2018.04.23/MOD09A1.A2018113.h33v10.006.2018122040907.hdf',\n",
    "'https://e4ftl01.cr.usgs.gov//MODV6_Cmp_C/MOLT/MOD09A1.006/2018.04.23/MOD09A1.A2018113.h28v11.006.2018122040815.hdf',\n",
    "'https://e4ftl01.cr.usgs.gov//MODV6_Cmp_C/MOLT/MOD09A1.006/2018.04.23/MOD09A1.A2018113.h33v09.006.2018122041101.hdf',\n",
    "'https://e4ftl01.cr.usgs.gov//MODV6_Cmp_C/MOLT/MOD09A1.006/2018.04.23/MOD09A1.A2018113.h32v11.006.2018122041156.hdf',\n",
    "'https://e4ftl01.cr.usgs.gov//MODV6_Cmp_C/MOLT/MOD09A1.006/2018.04.23/MOD09A1.A2018113.h30v12.006.2018122041516.hdf',\n",
    "'https://e4ftl01.cr.usgs.gov//MODV6_Cmp_C/MOLT/MOD09A1.006/2018.04.23/MOD09A1.A2018113.h29v11.006.2018122041054.hdf',\n",
    "'https://e4ftl01.cr.usgs.gov//MODV6_Cmp_C/MOLT/MOD09A1.006/2018.04.23/MOD09A1.A2018113.h27v12.006.2018122040827.hdf',\n",
    "'https://e4ftl01.cr.usgs.gov//MODV6_Cmp_C/MOLT/MOD09A1.006/2018.04.23/MOD09A1.A2018113.h29v12.006.2018122041216.hdf',\n",
    "'https://e4ftl01.cr.usgs.gov//MODV6_Cmp_C/MOLT/MOD09A1.006/2018.04.23/MOD09A1.A2018113.h30v10.006.2018122040916.hdf',\n",
    "'https://e4ftl01.cr.usgs.gov//MODV6_Cmp_C/MOLT/MOD09A1.006/2018.04.23/MOD09A1.A2018113.h31v12.006.2018122041301.hdf'\n",
    "    ]]\n",
    "unique_from_nestedlist(a)"
   ]
  },
  {
   "cell_type": "code",
   "execution_count": null,
   "metadata": {
    "collapsed": true
   },
   "outputs": [],
   "source": []
  }
 ],
 "metadata": {
  "kernelspec": {
   "display_name": "Python 3",
   "language": "python",
   "name": "python3"
  },
  "language_info": {
   "codemirror_mode": {
    "name": "ipython",
    "version": 3
   },
   "file_extension": ".py",
   "mimetype": "text/x-python",
   "name": "python",
   "nbconvert_exporter": "python",
   "pygments_lexer": "ipython3",
   "version": "3.6.3"
  }
 },
 "nbformat": 4,
 "nbformat_minor": 2
}
